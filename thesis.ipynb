{
  "nbformat": 4,
  "nbformat_minor": 0,
  "metadata": {
    "colab": {
      "provenance": []
    },
    "kernelspec": {
      "name": "python3",
      "display_name": "Python 3"
    },
    "language_info": {
      "name": "python"
    },
    "accelerator": "GPU",
    "gpuClass": "standard",
    "widgets": {
      "application/vnd.jupyter.widget-state+json": {
        "402ce4bacd4049fabcaa5c153f38354c": {
          "model_module": "@jupyter-widgets/controls",
          "model_name": "HBoxModel",
          "model_module_version": "1.5.0",
          "state": {
            "_dom_classes": [],
            "_model_module": "@jupyter-widgets/controls",
            "_model_module_version": "1.5.0",
            "_model_name": "HBoxModel",
            "_view_count": null,
            "_view_module": "@jupyter-widgets/controls",
            "_view_module_version": "1.5.0",
            "_view_name": "HBoxView",
            "box_style": "",
            "children": [
              "IPY_MODEL_78b3761e3ffc4ebc874d390ee482da47",
              "IPY_MODEL_872cabc3a2d64bc7ba365ae1bd3580a5",
              "IPY_MODEL_ec6a28a6d7284b69bb934db29079a32f"
            ],
            "layout": "IPY_MODEL_8bf05b9ad3c742b193a1e6aeec0935d4"
          }
        },
        "78b3761e3ffc4ebc874d390ee482da47": {
          "model_module": "@jupyter-widgets/controls",
          "model_name": "HTMLModel",
          "model_module_version": "1.5.0",
          "state": {
            "_dom_classes": [],
            "_model_module": "@jupyter-widgets/controls",
            "_model_module_version": "1.5.0",
            "_model_name": "HTMLModel",
            "_view_count": null,
            "_view_module": "@jupyter-widgets/controls",
            "_view_module_version": "1.5.0",
            "_view_name": "HTMLView",
            "description": "",
            "description_tooltip": null,
            "layout": "IPY_MODEL_e9f64742888c4619a70f12394d995ac3",
            "placeholder": "​",
            "style": "IPY_MODEL_b7673327ae274eb1ab0c298ca24124bd",
            "value": "Epoch 199: 100%"
          }
        },
        "872cabc3a2d64bc7ba365ae1bd3580a5": {
          "model_module": "@jupyter-widgets/controls",
          "model_name": "FloatProgressModel",
          "model_module_version": "1.5.0",
          "state": {
            "_dom_classes": [],
            "_model_module": "@jupyter-widgets/controls",
            "_model_module_version": "1.5.0",
            "_model_name": "FloatProgressModel",
            "_view_count": null,
            "_view_module": "@jupyter-widgets/controls",
            "_view_module_version": "1.5.0",
            "_view_name": "ProgressView",
            "bar_style": "success",
            "description": "",
            "description_tooltip": null,
            "layout": "IPY_MODEL_2db7146212e6452b97f5747abe9bdb46",
            "max": 146,
            "min": 0,
            "orientation": "horizontal",
            "style": "IPY_MODEL_446490042b5645c1bd1f36e42604c9a7",
            "value": 146
          }
        },
        "ec6a28a6d7284b69bb934db29079a32f": {
          "model_module": "@jupyter-widgets/controls",
          "model_name": "HTMLModel",
          "model_module_version": "1.5.0",
          "state": {
            "_dom_classes": [],
            "_model_module": "@jupyter-widgets/controls",
            "_model_module_version": "1.5.0",
            "_model_name": "HTMLModel",
            "_view_count": null,
            "_view_module": "@jupyter-widgets/controls",
            "_view_module_version": "1.5.0",
            "_view_name": "HTMLView",
            "description": "",
            "description_tooltip": null,
            "layout": "IPY_MODEL_d7999688fce04492813887225920413b",
            "placeholder": "​",
            "style": "IPY_MODEL_d3c4fee2d0e84d1aa5cb27ca71747964",
            "value": " 146/146 [00:13&lt;00:00, 10.63it/s, loss=806, train_loss=921.0]"
          }
        },
        "8bf05b9ad3c742b193a1e6aeec0935d4": {
          "model_module": "@jupyter-widgets/base",
          "model_name": "LayoutModel",
          "model_module_version": "1.2.0",
          "state": {
            "_model_module": "@jupyter-widgets/base",
            "_model_module_version": "1.2.0",
            "_model_name": "LayoutModel",
            "_view_count": null,
            "_view_module": "@jupyter-widgets/base",
            "_view_module_version": "1.2.0",
            "_view_name": "LayoutView",
            "align_content": null,
            "align_items": null,
            "align_self": null,
            "border": null,
            "bottom": null,
            "display": "inline-flex",
            "flex": null,
            "flex_flow": "row wrap",
            "grid_area": null,
            "grid_auto_columns": null,
            "grid_auto_flow": null,
            "grid_auto_rows": null,
            "grid_column": null,
            "grid_gap": null,
            "grid_row": null,
            "grid_template_areas": null,
            "grid_template_columns": null,
            "grid_template_rows": null,
            "height": null,
            "justify_content": null,
            "justify_items": null,
            "left": null,
            "margin": null,
            "max_height": null,
            "max_width": null,
            "min_height": null,
            "min_width": null,
            "object_fit": null,
            "object_position": null,
            "order": null,
            "overflow": null,
            "overflow_x": null,
            "overflow_y": null,
            "padding": null,
            "right": null,
            "top": null,
            "visibility": null,
            "width": "100%"
          }
        },
        "e9f64742888c4619a70f12394d995ac3": {
          "model_module": "@jupyter-widgets/base",
          "model_name": "LayoutModel",
          "model_module_version": "1.2.0",
          "state": {
            "_model_module": "@jupyter-widgets/base",
            "_model_module_version": "1.2.0",
            "_model_name": "LayoutModel",
            "_view_count": null,
            "_view_module": "@jupyter-widgets/base",
            "_view_module_version": "1.2.0",
            "_view_name": "LayoutView",
            "align_content": null,
            "align_items": null,
            "align_self": null,
            "border": null,
            "bottom": null,
            "display": null,
            "flex": null,
            "flex_flow": null,
            "grid_area": null,
            "grid_auto_columns": null,
            "grid_auto_flow": null,
            "grid_auto_rows": null,
            "grid_column": null,
            "grid_gap": null,
            "grid_row": null,
            "grid_template_areas": null,
            "grid_template_columns": null,
            "grid_template_rows": null,
            "height": null,
            "justify_content": null,
            "justify_items": null,
            "left": null,
            "margin": null,
            "max_height": null,
            "max_width": null,
            "min_height": null,
            "min_width": null,
            "object_fit": null,
            "object_position": null,
            "order": null,
            "overflow": null,
            "overflow_x": null,
            "overflow_y": null,
            "padding": null,
            "right": null,
            "top": null,
            "visibility": null,
            "width": null
          }
        },
        "b7673327ae274eb1ab0c298ca24124bd": {
          "model_module": "@jupyter-widgets/controls",
          "model_name": "DescriptionStyleModel",
          "model_module_version": "1.5.0",
          "state": {
            "_model_module": "@jupyter-widgets/controls",
            "_model_module_version": "1.5.0",
            "_model_name": "DescriptionStyleModel",
            "_view_count": null,
            "_view_module": "@jupyter-widgets/base",
            "_view_module_version": "1.2.0",
            "_view_name": "StyleView",
            "description_width": ""
          }
        },
        "2db7146212e6452b97f5747abe9bdb46": {
          "model_module": "@jupyter-widgets/base",
          "model_name": "LayoutModel",
          "model_module_version": "1.2.0",
          "state": {
            "_model_module": "@jupyter-widgets/base",
            "_model_module_version": "1.2.0",
            "_model_name": "LayoutModel",
            "_view_count": null,
            "_view_module": "@jupyter-widgets/base",
            "_view_module_version": "1.2.0",
            "_view_name": "LayoutView",
            "align_content": null,
            "align_items": null,
            "align_self": null,
            "border": null,
            "bottom": null,
            "display": null,
            "flex": "2",
            "flex_flow": null,
            "grid_area": null,
            "grid_auto_columns": null,
            "grid_auto_flow": null,
            "grid_auto_rows": null,
            "grid_column": null,
            "grid_gap": null,
            "grid_row": null,
            "grid_template_areas": null,
            "grid_template_columns": null,
            "grid_template_rows": null,
            "height": null,
            "justify_content": null,
            "justify_items": null,
            "left": null,
            "margin": null,
            "max_height": null,
            "max_width": null,
            "min_height": null,
            "min_width": null,
            "object_fit": null,
            "object_position": null,
            "order": null,
            "overflow": null,
            "overflow_x": null,
            "overflow_y": null,
            "padding": null,
            "right": null,
            "top": null,
            "visibility": null,
            "width": null
          }
        },
        "446490042b5645c1bd1f36e42604c9a7": {
          "model_module": "@jupyter-widgets/controls",
          "model_name": "ProgressStyleModel",
          "model_module_version": "1.5.0",
          "state": {
            "_model_module": "@jupyter-widgets/controls",
            "_model_module_version": "1.5.0",
            "_model_name": "ProgressStyleModel",
            "_view_count": null,
            "_view_module": "@jupyter-widgets/base",
            "_view_module_version": "1.2.0",
            "_view_name": "StyleView",
            "bar_color": null,
            "description_width": ""
          }
        },
        "d7999688fce04492813887225920413b": {
          "model_module": "@jupyter-widgets/base",
          "model_name": "LayoutModel",
          "model_module_version": "1.2.0",
          "state": {
            "_model_module": "@jupyter-widgets/base",
            "_model_module_version": "1.2.0",
            "_model_name": "LayoutModel",
            "_view_count": null,
            "_view_module": "@jupyter-widgets/base",
            "_view_module_version": "1.2.0",
            "_view_name": "LayoutView",
            "align_content": null,
            "align_items": null,
            "align_self": null,
            "border": null,
            "bottom": null,
            "display": null,
            "flex": null,
            "flex_flow": null,
            "grid_area": null,
            "grid_auto_columns": null,
            "grid_auto_flow": null,
            "grid_auto_rows": null,
            "grid_column": null,
            "grid_gap": null,
            "grid_row": null,
            "grid_template_areas": null,
            "grid_template_columns": null,
            "grid_template_rows": null,
            "height": null,
            "justify_content": null,
            "justify_items": null,
            "left": null,
            "margin": null,
            "max_height": null,
            "max_width": null,
            "min_height": null,
            "min_width": null,
            "object_fit": null,
            "object_position": null,
            "order": null,
            "overflow": null,
            "overflow_x": null,
            "overflow_y": null,
            "padding": null,
            "right": null,
            "top": null,
            "visibility": null,
            "width": null
          }
        },
        "d3c4fee2d0e84d1aa5cb27ca71747964": {
          "model_module": "@jupyter-widgets/controls",
          "model_name": "DescriptionStyleModel",
          "model_module_version": "1.5.0",
          "state": {
            "_model_module": "@jupyter-widgets/controls",
            "_model_module_version": "1.5.0",
            "_model_name": "DescriptionStyleModel",
            "_view_count": null,
            "_view_module": "@jupyter-widgets/base",
            "_view_module_version": "1.2.0",
            "_view_name": "StyleView",
            "description_width": ""
          }
        },
        "6c4cedc3fa6e409c92ee84b24c5194c7": {
          "model_module": "@jupyter-widgets/controls",
          "model_name": "HBoxModel",
          "model_module_version": "1.5.0",
          "state": {
            "_dom_classes": [],
            "_model_module": "@jupyter-widgets/controls",
            "_model_module_version": "1.5.0",
            "_model_name": "HBoxModel",
            "_view_count": null,
            "_view_module": "@jupyter-widgets/controls",
            "_view_module_version": "1.5.0",
            "_view_name": "HBoxView",
            "box_style": "",
            "children": [
              "IPY_MODEL_b096ee9045d34926afbe67180773e812",
              "IPY_MODEL_41f8859263de45bea598c8cd1a25d839",
              "IPY_MODEL_11763b81b6ea4d49a46a67273a669b71"
            ],
            "layout": "IPY_MODEL_1ce0e5930fd1482a96b5074918c0f733"
          }
        },
        "b096ee9045d34926afbe67180773e812": {
          "model_module": "@jupyter-widgets/controls",
          "model_name": "HTMLModel",
          "model_module_version": "1.5.0",
          "state": {
            "_dom_classes": [],
            "_model_module": "@jupyter-widgets/controls",
            "_model_module_version": "1.5.0",
            "_model_name": "HTMLModel",
            "_view_count": null,
            "_view_module": "@jupyter-widgets/controls",
            "_view_module_version": "1.5.0",
            "_view_name": "HTMLView",
            "description": "",
            "description_tooltip": null,
            "layout": "IPY_MODEL_4e8e8b01ed0a4d0186e18622fe4c4a93",
            "placeholder": "​",
            "style": "IPY_MODEL_e7652ee5191747ce9bd6ebac878efbf4",
            "value": "Predicting DataLoader 0: 100%"
          }
        },
        "41f8859263de45bea598c8cd1a25d839": {
          "model_module": "@jupyter-widgets/controls",
          "model_name": "FloatProgressModel",
          "model_module_version": "1.5.0",
          "state": {
            "_dom_classes": [],
            "_model_module": "@jupyter-widgets/controls",
            "_model_module_version": "1.5.0",
            "_model_name": "FloatProgressModel",
            "_view_count": null,
            "_view_module": "@jupyter-widgets/controls",
            "_view_module_version": "1.5.0",
            "_view_name": "ProgressView",
            "bar_style": "success",
            "description": "",
            "description_tooltip": null,
            "layout": "IPY_MODEL_4439af5a4daa428da0746f12fcebf8aa",
            "max": 1,
            "min": 0,
            "orientation": "horizontal",
            "style": "IPY_MODEL_5e40397691a1467195e7bd4ce03ab61d",
            "value": 1
          }
        },
        "11763b81b6ea4d49a46a67273a669b71": {
          "model_module": "@jupyter-widgets/controls",
          "model_name": "HTMLModel",
          "model_module_version": "1.5.0",
          "state": {
            "_dom_classes": [],
            "_model_module": "@jupyter-widgets/controls",
            "_model_module_version": "1.5.0",
            "_model_name": "HTMLModel",
            "_view_count": null,
            "_view_module": "@jupyter-widgets/controls",
            "_view_module_version": "1.5.0",
            "_view_name": "HTMLView",
            "description": "",
            "description_tooltip": null,
            "layout": "IPY_MODEL_7f076cf81b8e406ea0247286fb4d8449",
            "placeholder": "​",
            "style": "IPY_MODEL_3cceb66b97924e0f9bb002ce67f52f03",
            "value": " 1/1 [00:00&lt;00:00, 33.33it/s]"
          }
        },
        "1ce0e5930fd1482a96b5074918c0f733": {
          "model_module": "@jupyter-widgets/base",
          "model_name": "LayoutModel",
          "model_module_version": "1.2.0",
          "state": {
            "_model_module": "@jupyter-widgets/base",
            "_model_module_version": "1.2.0",
            "_model_name": "LayoutModel",
            "_view_count": null,
            "_view_module": "@jupyter-widgets/base",
            "_view_module_version": "1.2.0",
            "_view_name": "LayoutView",
            "align_content": null,
            "align_items": null,
            "align_self": null,
            "border": null,
            "bottom": null,
            "display": "inline-flex",
            "flex": null,
            "flex_flow": "row wrap",
            "grid_area": null,
            "grid_auto_columns": null,
            "grid_auto_flow": null,
            "grid_auto_rows": null,
            "grid_column": null,
            "grid_gap": null,
            "grid_row": null,
            "grid_template_areas": null,
            "grid_template_columns": null,
            "grid_template_rows": null,
            "height": null,
            "justify_content": null,
            "justify_items": null,
            "left": null,
            "margin": null,
            "max_height": null,
            "max_width": null,
            "min_height": null,
            "min_width": null,
            "object_fit": null,
            "object_position": null,
            "order": null,
            "overflow": null,
            "overflow_x": null,
            "overflow_y": null,
            "padding": null,
            "right": null,
            "top": null,
            "visibility": null,
            "width": "100%"
          }
        },
        "4e8e8b01ed0a4d0186e18622fe4c4a93": {
          "model_module": "@jupyter-widgets/base",
          "model_name": "LayoutModel",
          "model_module_version": "1.2.0",
          "state": {
            "_model_module": "@jupyter-widgets/base",
            "_model_module_version": "1.2.0",
            "_model_name": "LayoutModel",
            "_view_count": null,
            "_view_module": "@jupyter-widgets/base",
            "_view_module_version": "1.2.0",
            "_view_name": "LayoutView",
            "align_content": null,
            "align_items": null,
            "align_self": null,
            "border": null,
            "bottom": null,
            "display": null,
            "flex": null,
            "flex_flow": null,
            "grid_area": null,
            "grid_auto_columns": null,
            "grid_auto_flow": null,
            "grid_auto_rows": null,
            "grid_column": null,
            "grid_gap": null,
            "grid_row": null,
            "grid_template_areas": null,
            "grid_template_columns": null,
            "grid_template_rows": null,
            "height": null,
            "justify_content": null,
            "justify_items": null,
            "left": null,
            "margin": null,
            "max_height": null,
            "max_width": null,
            "min_height": null,
            "min_width": null,
            "object_fit": null,
            "object_position": null,
            "order": null,
            "overflow": null,
            "overflow_x": null,
            "overflow_y": null,
            "padding": null,
            "right": null,
            "top": null,
            "visibility": null,
            "width": null
          }
        },
        "e7652ee5191747ce9bd6ebac878efbf4": {
          "model_module": "@jupyter-widgets/controls",
          "model_name": "DescriptionStyleModel",
          "model_module_version": "1.5.0",
          "state": {
            "_model_module": "@jupyter-widgets/controls",
            "_model_module_version": "1.5.0",
            "_model_name": "DescriptionStyleModel",
            "_view_count": null,
            "_view_module": "@jupyter-widgets/base",
            "_view_module_version": "1.2.0",
            "_view_name": "StyleView",
            "description_width": ""
          }
        },
        "4439af5a4daa428da0746f12fcebf8aa": {
          "model_module": "@jupyter-widgets/base",
          "model_name": "LayoutModel",
          "model_module_version": "1.2.0",
          "state": {
            "_model_module": "@jupyter-widgets/base",
            "_model_module_version": "1.2.0",
            "_model_name": "LayoutModel",
            "_view_count": null,
            "_view_module": "@jupyter-widgets/base",
            "_view_module_version": "1.2.0",
            "_view_name": "LayoutView",
            "align_content": null,
            "align_items": null,
            "align_self": null,
            "border": null,
            "bottom": null,
            "display": null,
            "flex": "2",
            "flex_flow": null,
            "grid_area": null,
            "grid_auto_columns": null,
            "grid_auto_flow": null,
            "grid_auto_rows": null,
            "grid_column": null,
            "grid_gap": null,
            "grid_row": null,
            "grid_template_areas": null,
            "grid_template_columns": null,
            "grid_template_rows": null,
            "height": null,
            "justify_content": null,
            "justify_items": null,
            "left": null,
            "margin": null,
            "max_height": null,
            "max_width": null,
            "min_height": null,
            "min_width": null,
            "object_fit": null,
            "object_position": null,
            "order": null,
            "overflow": null,
            "overflow_x": null,
            "overflow_y": null,
            "padding": null,
            "right": null,
            "top": null,
            "visibility": null,
            "width": null
          }
        },
        "5e40397691a1467195e7bd4ce03ab61d": {
          "model_module": "@jupyter-widgets/controls",
          "model_name": "ProgressStyleModel",
          "model_module_version": "1.5.0",
          "state": {
            "_model_module": "@jupyter-widgets/controls",
            "_model_module_version": "1.5.0",
            "_model_name": "ProgressStyleModel",
            "_view_count": null,
            "_view_module": "@jupyter-widgets/base",
            "_view_module_version": "1.2.0",
            "_view_name": "StyleView",
            "bar_color": null,
            "description_width": ""
          }
        },
        "7f076cf81b8e406ea0247286fb4d8449": {
          "model_module": "@jupyter-widgets/base",
          "model_name": "LayoutModel",
          "model_module_version": "1.2.0",
          "state": {
            "_model_module": "@jupyter-widgets/base",
            "_model_module_version": "1.2.0",
            "_model_name": "LayoutModel",
            "_view_count": null,
            "_view_module": "@jupyter-widgets/base",
            "_view_module_version": "1.2.0",
            "_view_name": "LayoutView",
            "align_content": null,
            "align_items": null,
            "align_self": null,
            "border": null,
            "bottom": null,
            "display": null,
            "flex": null,
            "flex_flow": null,
            "grid_area": null,
            "grid_auto_columns": null,
            "grid_auto_flow": null,
            "grid_auto_rows": null,
            "grid_column": null,
            "grid_gap": null,
            "grid_row": null,
            "grid_template_areas": null,
            "grid_template_columns": null,
            "grid_template_rows": null,
            "height": null,
            "justify_content": null,
            "justify_items": null,
            "left": null,
            "margin": null,
            "max_height": null,
            "max_width": null,
            "min_height": null,
            "min_width": null,
            "object_fit": null,
            "object_position": null,
            "order": null,
            "overflow": null,
            "overflow_x": null,
            "overflow_y": null,
            "padding": null,
            "right": null,
            "top": null,
            "visibility": null,
            "width": null
          }
        },
        "3cceb66b97924e0f9bb002ce67f52f03": {
          "model_module": "@jupyter-widgets/controls",
          "model_name": "DescriptionStyleModel",
          "model_module_version": "1.5.0",
          "state": {
            "_model_module": "@jupyter-widgets/controls",
            "_model_module_version": "1.5.0",
            "_model_name": "DescriptionStyleModel",
            "_view_count": null,
            "_view_module": "@jupyter-widgets/base",
            "_view_module_version": "1.2.0",
            "_view_name": "StyleView",
            "description_width": ""
          }
        }
      }
    }
  },
  "cells": [
    {
      "cell_type": "code",
      "execution_count": 1,
      "metadata": {
        "id": "vSaLBJzAzKKk",
        "colab": {
          "base_uri": "https://localhost:8080/"
        },
        "outputId": "45b26ca9-fcbe-4f77-9a01-5543317e3682"
      },
      "outputs": [
        {
          "output_type": "stream",
          "name": "stdout",
          "text": [
            "Looking in indexes: https://pypi.org/simple, https://us-python.pkg.dev/colab-wheels/public/simple/\n",
            "Collecting darts\n",
            "  Downloading darts-0.23.1-py3-none-any.whl (592 kB)\n",
            "\u001b[2K     \u001b[90m━━━━━━━━━━━━━━━━━━━━━━━━━━━━━━━━━━━━━━━\u001b[0m \u001b[32m592.0/592.0 KB\u001b[0m \u001b[31m9.4 MB/s\u001b[0m eta \u001b[36m0:00:00\u001b[0m\n",
            "\u001b[?25hRequirement already satisfied: matplotlib>=3.3.0 in /usr/local/lib/python3.8/dist-packages (from darts) (3.5.3)\n",
            "Collecting nfoursid>=1.0.0\n",
            "  Downloading nfoursid-1.0.1-py3-none-any.whl (16 kB)\n",
            "Requirement already satisfied: xarray>=0.17.0 in /usr/local/lib/python3.8/dist-packages (from darts) (2022.12.0)\n",
            "Collecting statsmodels>=0.13.0\n",
            "  Downloading statsmodels-0.13.5-cp38-cp38-manylinux_2_17_x86_64.manylinux2014_x86_64.whl (9.9 MB)\n",
            "\u001b[2K     \u001b[90m━━━━━━━━━━━━━━━━━━━━━━━━━━━━━━━━━━━━━━━━\u001b[0m \u001b[32m9.9/9.9 MB\u001b[0m \u001b[31m57.3 MB/s\u001b[0m eta \u001b[36m0:00:00\u001b[0m\n",
            "\u001b[?25hCollecting shap>=0.40.0\n",
            "  Downloading shap-0.41.0-cp38-cp38-manylinux_2_12_x86_64.manylinux2010_x86_64.whl (575 kB)\n",
            "\u001b[2K     \u001b[90m━━━━━━━━━━━━━━━━━━━━━━━━━━━━━━━━━━━━━━\u001b[0m \u001b[32m575.9/575.9 KB\u001b[0m \u001b[31m25.2 MB/s\u001b[0m eta \u001b[36m0:00:00\u001b[0m\n",
            "\u001b[?25hRequirement already satisfied: scikit-learn>=1.0.1 in /usr/local/lib/python3.8/dist-packages (from darts) (1.0.2)\n",
            "Requirement already satisfied: numpy>=1.19.0 in /usr/local/lib/python3.8/dist-packages (from darts) (1.22.4)\n",
            "Collecting pyod>=0.9.5\n",
            "  Downloading pyod-1.0.7.tar.gz (147 kB)\n",
            "\u001b[2K     \u001b[90m━━━━━━━━━━━━━━━━━━━━━━━━━━━━━━━━━━━━━━\u001b[0m \u001b[32m147.7/147.7 KB\u001b[0m \u001b[31m12.1 MB/s\u001b[0m eta \u001b[36m0:00:00\u001b[0m\n",
            "\u001b[?25h  Preparing metadata (setup.py) ... \u001b[?25l\u001b[?25hdone\n",
            "Requirement already satisfied: requests>=2.22.0 in /usr/local/lib/python3.8/dist-packages (from darts) (2.25.1)\n",
            "Collecting pmdarima>=1.8.0\n",
            "  Downloading pmdarima-2.0.2-cp38-cp38-manylinux_2_17_x86_64.manylinux2014_x86_64.manylinux_2_28_x86_64.whl (1.9 MB)\n",
            "\u001b[2K     \u001b[90m━━━━━━━━━━━━━━━━━━━━━━━━━━━━━━━━━━━━━━━━\u001b[0m \u001b[32m1.9/1.9 MB\u001b[0m \u001b[31m43.5 MB/s\u001b[0m eta \u001b[36m0:00:00\u001b[0m\n",
            "\u001b[?25hRequirement already satisfied: prophet>=1.1.1 in /usr/local/lib/python3.8/dist-packages (from darts) (1.1.2)\n",
            "Requirement already satisfied: pandas>=1.0.5 in /usr/local/lib/python3.8/dist-packages (from darts) (1.3.5)\n",
            "Collecting xgboost>=1.6.0\n",
            "  Downloading xgboost-1.7.4-py3-none-manylinux2014_x86_64.whl (193.6 MB)\n",
            "\u001b[2K     \u001b[90m━━━━━━━━━━━━━━━━━━━━━━━━━━━━━━━━━━━━━━━\u001b[0m \u001b[32m193.6/193.6 MB\u001b[0m \u001b[31m5.0 MB/s\u001b[0m eta \u001b[36m0:00:00\u001b[0m\n",
            "\u001b[?25hRequirement already satisfied: tqdm>=4.60.0 in /usr/local/lib/python3.8/dist-packages (from darts) (4.64.1)\n",
            "Collecting statsforecast>=1.0.0\n",
            "  Downloading statsforecast-1.4.0-py3-none-any.whl (91 kB)\n",
            "\u001b[2K     \u001b[90m━━━━━━━━━━━━━━━━━━━━━━━━━━━━━━━━━━━━━━━━\u001b[0m \u001b[32m92.0/92.0 KB\u001b[0m \u001b[31m4.1 MB/s\u001b[0m eta \u001b[36m0:00:00\u001b[0m\n",
            "\u001b[?25hCollecting catboost>=1.0.6\n",
            "  Downloading catboost-1.1.1-cp38-none-manylinux1_x86_64.whl (76.6 MB)\n",
            "\u001b[2K     \u001b[90m━━━━━━━━━━━━━━━━━━━━━━━━━━━━━━━━━━━━━━━━\u001b[0m \u001b[32m76.6/76.6 MB\u001b[0m \u001b[31m13.2 MB/s\u001b[0m eta \u001b[36m0:00:00\u001b[0m\n",
            "\u001b[?25hRequirement already satisfied: torch>=1.8.0 in /usr/local/lib/python3.8/dist-packages (from darts) (1.13.1+cu116)\n",
            "Requirement already satisfied: holidays>=0.11.1 in /usr/local/lib/python3.8/dist-packages (from darts) (0.19)\n",
            "Requirement already satisfied: joblib>=0.16.0 in /usr/local/lib/python3.8/dist-packages (from darts) (1.2.0)\n",
            "Collecting lightgbm>=3.2.0\n",
            "  Downloading lightgbm-3.3.5-py3-none-manylinux1_x86_64.whl (2.0 MB)\n",
            "\u001b[2K     \u001b[90m━━━━━━━━━━━━━━━━━━━━━━━━━━━━━━━━━━━━━━━━\u001b[0m \u001b[32m2.0/2.0 MB\u001b[0m \u001b[31m47.2 MB/s\u001b[0m eta \u001b[36m0:00:00\u001b[0m\n",
            "\u001b[?25hCollecting pytorch-lightning>=1.5.0\n",
            "  Downloading pytorch_lightning-1.9.3-py3-none-any.whl (826 kB)\n",
            "\u001b[2K     \u001b[90m━━━━━━━━━━━━━━━━━━━━━━━━━━━━━━━━━━━━━━\u001b[0m \u001b[32m826.4/826.4 KB\u001b[0m \u001b[31m51.7 MB/s\u001b[0m eta \u001b[36m0:00:00\u001b[0m\n",
            "\u001b[?25hRequirement already satisfied: scipy>=1.3.2 in /usr/local/lib/python3.8/dist-packages (from darts) (1.7.3)\n",
            "Collecting tbats>=1.1.0\n",
            "  Downloading tbats-1.1.2-py3-none-any.whl (43 kB)\n",
            "\u001b[2K     \u001b[90m━━━━━━━━━━━━━━━━━━━━━━━━━━━━━━━━━━━━━━━━\u001b[0m \u001b[32m43.8/43.8 KB\u001b[0m \u001b[31m5.1 MB/s\u001b[0m eta \u001b[36m0:00:00\u001b[0m\n",
            "\u001b[?25hRequirement already satisfied: graphviz in /usr/local/lib/python3.8/dist-packages (from catboost>=1.0.6->darts) (0.10.1)\n",
            "Requirement already satisfied: plotly in /usr/local/lib/python3.8/dist-packages (from catboost>=1.0.6->darts) (5.5.0)\n",
            "Requirement already satisfied: six in /usr/local/lib/python3.8/dist-packages (from catboost>=1.0.6->darts) (1.15.0)\n",
            "Requirement already satisfied: hijri-converter in /usr/local/lib/python3.8/dist-packages (from holidays>=0.11.1->darts) (2.2.4)\n",
            "Requirement already satisfied: korean-lunar-calendar in /usr/local/lib/python3.8/dist-packages (from holidays>=0.11.1->darts) (0.3.1)\n",
            "Requirement already satisfied: python-dateutil in /usr/local/lib/python3.8/dist-packages (from holidays>=0.11.1->darts) (2.8.2)\n",
            "Requirement already satisfied: PyMeeus in /usr/local/lib/python3.8/dist-packages (from holidays>=0.11.1->darts) (0.5.12)\n",
            "Requirement already satisfied: convertdate>=2.3.0 in /usr/local/lib/python3.8/dist-packages (from holidays>=0.11.1->darts) (2.4.0)\n",
            "Requirement already satisfied: wheel in /usr/local/lib/python3.8/dist-packages (from lightgbm>=3.2.0->darts) (0.38.4)\n",
            "Requirement already satisfied: packaging>=20.0 in /usr/local/lib/python3.8/dist-packages (from matplotlib>=3.3.0->darts) (23.0)\n",
            "Requirement already satisfied: pillow>=6.2.0 in /usr/local/lib/python3.8/dist-packages (from matplotlib>=3.3.0->darts) (7.1.2)\n",
            "Requirement already satisfied: cycler>=0.10 in /usr/local/lib/python3.8/dist-packages (from matplotlib>=3.3.0->darts) (0.11.0)\n",
            "Requirement already satisfied: kiwisolver>=1.0.1 in /usr/local/lib/python3.8/dist-packages (from matplotlib>=3.3.0->darts) (1.4.4)\n",
            "Requirement already satisfied: pyparsing>=2.2.1 in /usr/local/lib/python3.8/dist-packages (from matplotlib>=3.3.0->darts) (3.0.9)\n",
            "Requirement already satisfied: fonttools>=4.22.0 in /usr/local/lib/python3.8/dist-packages (from matplotlib>=3.3.0->darts) (4.38.0)\n",
            "Requirement already satisfied: pytz>=2017.3 in /usr/local/lib/python3.8/dist-packages (from pandas>=1.0.5->darts) (2022.7.1)\n",
            "Requirement already satisfied: Cython!=0.29.18,!=0.29.31,>=0.29 in /usr/local/lib/python3.8/dist-packages (from pmdarima>=1.8.0->darts) (0.29.33)\n",
            "Requirement already satisfied: urllib3 in /usr/local/lib/python3.8/dist-packages (from pmdarima>=1.8.0->darts) (1.24.3)\n",
            "Requirement already satisfied: setuptools!=50.0.0,>=38.6.0 in /usr/local/lib/python3.8/dist-packages (from pmdarima>=1.8.0->darts) (57.4.0)\n",
            "Requirement already satisfied: LunarCalendar>=0.0.9 in /usr/local/lib/python3.8/dist-packages (from prophet>=1.1.1->darts) (0.0.9)\n",
            "Requirement already satisfied: cmdstanpy>=1.0.4 in /usr/local/lib/python3.8/dist-packages (from prophet>=1.1.1->darts) (1.1.0)\n",
            "Requirement already satisfied: numba>=0.51 in /usr/local/lib/python3.8/dist-packages (from pyod>=0.9.5->darts) (0.56.4)\n",
            "Requirement already satisfied: fsspec[http]>2021.06.0 in /usr/local/lib/python3.8/dist-packages (from pytorch-lightning>=1.5.0->darts) (2023.1.0)\n",
            "Collecting torchmetrics>=0.7.0\n",
            "  Downloading torchmetrics-0.11.1-py3-none-any.whl (517 kB)\n",
            "\u001b[2K     \u001b[90m━━━━━━━━━━━━━━━━━━━━━━━━━━━━━━━━━━━━━━\u001b[0m \u001b[32m517.2/517.2 KB\u001b[0m \u001b[31m28.6 MB/s\u001b[0m eta \u001b[36m0:00:00\u001b[0m\n",
            "\u001b[?25hCollecting lightning-utilities>=0.6.0.post0\n",
            "  Downloading lightning_utilities-0.7.1-py3-none-any.whl (18 kB)\n",
            "Requirement already satisfied: PyYAML>=5.4 in /usr/local/lib/python3.8/dist-packages (from pytorch-lightning>=1.5.0->darts) (6.0)\n",
            "Requirement already satisfied: typing-extensions>=4.0.0 in /usr/local/lib/python3.8/dist-packages (from pytorch-lightning>=1.5.0->darts) (4.5.0)\n",
            "Requirement already satisfied: certifi>=2017.4.17 in /usr/local/lib/python3.8/dist-packages (from requests>=2.22.0->darts) (2022.12.7)\n",
            "Requirement already satisfied: idna<3,>=2.5 in /usr/local/lib/python3.8/dist-packages (from requests>=2.22.0->darts) (2.10)\n",
            "Requirement already satisfied: chardet<5,>=3.0.2 in /usr/local/lib/python3.8/dist-packages (from requests>=2.22.0->darts) (4.0.0)\n",
            "Requirement already satisfied: threadpoolctl>=2.0.0 in /usr/local/lib/python3.8/dist-packages (from scikit-learn>=1.0.1->darts) (3.1.0)\n",
            "Requirement already satisfied: cloudpickle in /usr/local/lib/python3.8/dist-packages (from shap>=0.40.0->darts) (2.2.1)\n",
            "Collecting slicer==0.0.7\n",
            "  Downloading slicer-0.0.7-py3-none-any.whl (14 kB)\n",
            "Requirement already satisfied: patsy>=0.5.2 in /usr/local/lib/python3.8/dist-packages (from statsmodels>=0.13.0->darts) (0.5.3)\n",
            "Requirement already satisfied: aiohttp!=4.0.0a0,!=4.0.0a1 in /usr/local/lib/python3.8/dist-packages (from fsspec[http]>2021.06.0->pytorch-lightning>=1.5.0->darts) (3.8.4)\n",
            "Requirement already satisfied: ephem>=3.7.5.3 in /usr/local/lib/python3.8/dist-packages (from LunarCalendar>=0.0.9->prophet>=1.1.1->darts) (4.1.4)\n",
            "Requirement already satisfied: importlib-metadata in /usr/local/lib/python3.8/dist-packages (from numba>=0.51->pyod>=0.9.5->darts) (6.0.0)\n",
            "Requirement already satisfied: llvmlite<0.40,>=0.39.0dev0 in /usr/local/lib/python3.8/dist-packages (from numba>=0.51->pyod>=0.9.5->darts) (0.39.1)\n",
            "Requirement already satisfied: tenacity>=6.2.0 in /usr/local/lib/python3.8/dist-packages (from plotly->catboost>=1.0.6->darts) (8.2.1)\n",
            "Requirement already satisfied: multidict<7.0,>=4.5 in /usr/local/lib/python3.8/dist-packages (from aiohttp!=4.0.0a0,!=4.0.0a1->fsspec[http]>2021.06.0->pytorch-lightning>=1.5.0->darts) (6.0.4)\n",
            "Requirement already satisfied: async-timeout<5.0,>=4.0.0a3 in /usr/local/lib/python3.8/dist-packages (from aiohttp!=4.0.0a0,!=4.0.0a1->fsspec[http]>2021.06.0->pytorch-lightning>=1.5.0->darts) (4.0.2)\n",
            "Requirement already satisfied: yarl<2.0,>=1.0 in /usr/local/lib/python3.8/dist-packages (from aiohttp!=4.0.0a0,!=4.0.0a1->fsspec[http]>2021.06.0->pytorch-lightning>=1.5.0->darts) (1.8.2)\n",
            "Requirement already satisfied: attrs>=17.3.0 in /usr/local/lib/python3.8/dist-packages (from aiohttp!=4.0.0a0,!=4.0.0a1->fsspec[http]>2021.06.0->pytorch-lightning>=1.5.0->darts) (22.2.0)\n",
            "Requirement already satisfied: charset-normalizer<4.0,>=2.0 in /usr/local/lib/python3.8/dist-packages (from aiohttp!=4.0.0a0,!=4.0.0a1->fsspec[http]>2021.06.0->pytorch-lightning>=1.5.0->darts) (3.0.1)\n",
            "Requirement already satisfied: aiosignal>=1.1.2 in /usr/local/lib/python3.8/dist-packages (from aiohttp!=4.0.0a0,!=4.0.0a1->fsspec[http]>2021.06.0->pytorch-lightning>=1.5.0->darts) (1.3.1)\n",
            "Requirement already satisfied: frozenlist>=1.1.1 in /usr/local/lib/python3.8/dist-packages (from aiohttp!=4.0.0a0,!=4.0.0a1->fsspec[http]>2021.06.0->pytorch-lightning>=1.5.0->darts) (1.3.3)\n",
            "Requirement already satisfied: zipp>=0.5 in /usr/local/lib/python3.8/dist-packages (from importlib-metadata->numba>=0.51->pyod>=0.9.5->darts) (3.14.0)\n",
            "Building wheels for collected packages: pyod\n",
            "  Building wheel for pyod (setup.py) ... \u001b[?25l\u001b[?25hdone\n",
            "  Created wheel for pyod: filename=pyod-1.0.7-py3-none-any.whl size=181101 sha256=7f38c486e2ec735150b88710a961d68b132bca928d280e25e562aaadf25cd6b3\n",
            "  Stored in directory: /root/.cache/pip/wheels/f7/e2/c1/1c7fd8b261e72411f6509afb429c84532e40ddcd96074473f4\n",
            "Successfully built pyod\n",
            "Installing collected packages: slicer, lightning-utilities, xgboost, torchmetrics, statsmodels, shap, nfoursid, lightgbm, catboost, statsforecast, pytorch-lightning, pyod, pmdarima, tbats, darts\n",
            "  Attempting uninstall: xgboost\n",
            "    Found existing installation: xgboost 0.90\n",
            "    Uninstalling xgboost-0.90:\n",
            "      Successfully uninstalled xgboost-0.90\n",
            "  Attempting uninstall: statsmodels\n",
            "    Found existing installation: statsmodels 0.12.2\n",
            "    Uninstalling statsmodels-0.12.2:\n",
            "      Successfully uninstalled statsmodels-0.12.2\n",
            "  Attempting uninstall: lightgbm\n",
            "    Found existing installation: lightgbm 2.2.3\n",
            "    Uninstalling lightgbm-2.2.3:\n",
            "      Successfully uninstalled lightgbm-2.2.3\n",
            "Successfully installed catboost-1.1.1 darts-0.23.1 lightgbm-3.3.5 lightning-utilities-0.7.1 nfoursid-1.0.1 pmdarima-2.0.2 pyod-1.0.7 pytorch-lightning-1.9.3 shap-0.41.0 slicer-0.0.7 statsforecast-1.4.0 statsmodels-0.13.5 tbats-1.1.2 torchmetrics-0.11.1 xgboost-1.7.4\n"
          ]
        }
      ],
      "source": [
        "# Install DARTS\n",
        "%pip install darts"
      ]
    },
    {
      "cell_type": "code",
      "source": [
        "# Mounting GDrive\n",
        "from google.colab import drive\n",
        "drive.mount(\"/content/gdrive\")"
      ],
      "metadata": {
        "colab": {
          "base_uri": "https://localhost:8080/"
        },
        "id": "uNrdAllLz_G_",
        "outputId": "97e6ed47-f308-4ab4-cd57-5120e9a252aa"
      },
      "execution_count": null,
      "outputs": [
        {
          "output_type": "stream",
          "name": "stdout",
          "text": [
            "Mounted at /content/gdrive\n"
          ]
        }
      ]
    },
    {
      "cell_type": "code",
      "source": [
        "# Sections for importants function\n",
        "import pandas as pd\n",
        "from darts import TimeSeries\n",
        "from darts.dataprocessing.transformers import MissingValuesFiller\n",
        "import darts.utils.model_selection\n",
        "from darts.utils.statistics import plot_acf, check_seasonality\n",
        "from darts.dataprocessing.transformers import Scaler\n",
        "from datetime import datetime\n",
        "\n",
        "def read_data(data_path, cols = []):\n",
        "  return pd.read_csv(data_path, usecols = cols)\n",
        "\n",
        "def format_df_numbers(df, cols = []):\n",
        "  result = df.copy(deep=True)\n",
        "  for col in cols:\n",
        "    result[col] = result[col].apply(lambda value:float(value.replace(\",\",\"\")))\n",
        "  return result\n",
        "\n",
        "def format_df_date(df, cols = [], date_format = \"\"):\n",
        "  result = df.copy(deep=True)\n",
        "  for col in cols:\n",
        "    result[col] = result[col].apply(lambda x:datetime.strptime(x, date_format))\n",
        "  return result\n",
        "\n",
        "def fill_in_missing_value(series):\n",
        "  return MissingValuesFiller().transform(series)\n",
        "\n",
        "def save_series_as_csv(series, save_path):\n",
        "  series.pd_dataframe().to_csv(save_path)\n",
        "\n",
        "# Section for trying splitting and saving data back\n",
        "def splitting_data(series, val_size=0.2, test_size=0.1):\n",
        "  train_validation, test = darts.utils.model_selection.train_test_split(series, test_size=test_size)\n",
        "  train, validation = darts.utils.model_selection.train_test_split(train_validation, test_size=val_size)\n",
        "  train.plot(label='Train')\n",
        "  validation.plot(label='Validation')\n",
        "  test.plot(label='Test')\n",
        "  save_series_as_csv(train, \"/content/gdrive/MyDrive/data/train.csv\")\n",
        "  save_series_as_csv(test, \"/content/gdrive/MyDrive/data/test.csv\")\n",
        "  save_series_as_csv(validation, \"/content/gdrive/MyDrive/data/validation.csv\")\n",
        "\n",
        "def get_sessionals(series, upper_bound, max_lag):\n",
        "  result = []\n",
        "  for m in range(2, upper_bound):\n",
        "    is_seasonal, period = check_seasonality(series, m=m, alpha=1, max_lag=max_lag)\n",
        "    if is_seasonal:\n",
        "      result.append(period)\n",
        "  return result\n",
        "\n",
        "from darts.metrics import mape, smape, rmse\n",
        "def calculate_metrics(actual_series, pred_series):\n",
        "  return (mape(actual_series, pred_series), smape(actual_series, pred_series))\n"
      ],
      "metadata": {
        "id": "zAuUgJFw1zqG"
      },
      "execution_count": 2,
      "outputs": []
    },
    {
      "cell_type": "code",
      "source": [
        "# Loading original data\n",
        "\n",
        "df = read_data(\"https://raw.githubusercontent.com/minidragon88/ensemble_forecast/main/data/VN_INDEX_2010_2023.csv\", [\"Ngày\", \"Lần cuối\"])\n",
        "# Format value\n",
        "df = format_df_date(format_df_numbers(df, [\"Lần cuối\"]), [\"Ngày\"], '%d/%m/%Y')\n",
        "\n",
        "# Form a timeseries and fill in missing value\n",
        "series = fill_in_missing_value(TimeSeries.from_dataframe(df, \"Ngày\", \"Lần cuối\", fill_missing_dates=True, freq=\"D\"))\n",
        "# Add scaler\n",
        "#series = Scaler().fit_transform(series)\n",
        "series.plot()\n",
        "# splitting_data(series, 30, 30)"
      ],
      "metadata": {
        "colab": {
          "base_uri": "https://localhost:8080/",
          "height": 288
        },
        "id": "N1KSYcg_FGLI",
        "outputId": "6fe3d790-98ef-47ac-c370-bccb1ad45ca0"
      },
      "execution_count": 5,
      "outputs": [
        {
          "output_type": "display_data",
          "data": {
            "text/plain": [
              "<Figure size 432x288 with 1 Axes>"
            ],
            "image/png": "[encoded data removed]"
          },
          "metadata": {
            "needs_background": "light"
          }
        }
      ]
    },
    {
      "cell_type": "code",
      "source": [
        "cols = [\"Ngày\", \"Lần cuối\"]\n",
        "\n",
        "base_path = \"https://raw.githubusercontent.com/minidragon88/ensemble_forecast/main/data/\"\n",
        "train = TimeSeries.from_dataframe(read_data(base_path + \"train.csv\", cols), \"Ngày\", \"Lần cuối\", fill_missing_dates=True, freq=\"D\")\n",
        "test = TimeSeries.from_dataframe(read_data(base_path + \"test.csv\", cols), \"Ngày\", \"Lần cuối\", fill_missing_dates=True, freq=\"D\")\n",
        "validation = TimeSeries.from_dataframe(read_data(base_path + \"validation.csv\", cols), \"Ngày\", \"Lần cuối\", fill_missing_dates=True, freq=\"D\")\n",
        "\n",
        "validation.plot(label='Validation')\n",
        "train.plot(label='Train')\n",
        "test.plot(label='Test')"
      ],
      "metadata": {
        "colab": {
          "base_uri": "https://localhost:8080/",
          "height": 288
        },
        "id": "6t-jLY1cK48v",
        "outputId": "6f0d984f-88f0-42e0-e1ea-a9e65145f09f"
      },
      "execution_count": 6,
      "outputs": [
        {
          "output_type": "display_data",
          "data": {
            "text/plain": [
              "<Figure size 432x288 with 1 Axes>"
            ],
            "image/png": "[encoded data removed]"
          },
          "metadata": {
            "needs_background": "light"
          }
        }
      ]
    },
    {
      "cell_type": "code",
      "source": [
        "from darts.models.forecasting.baselines import NaiveSeasonal, NaiveDrift, NaiveMean, NaiveEnsembleModel\n",
        "def get_best_naive_seasonal(train, validation, ranges):\n",
        "  best = 0;\n",
        "  current_threshhold = 100\n",
        "  for counter in range(1, ranges):\n",
        "    naive_model = NaiveSeasonal(K=counter)\n",
        "    naive_model.fit(train)\n",
        "    naive_forecast = naive_model.predict(len(validation))\n",
        "    mape_val, smape_val = calculate_metrics(naive_forecast, validation)\n",
        "    if smape_val < current_threshhold:\n",
        "      best = counter\n",
        "      current_threshhold = smape_val\n",
        "  return best\n",
        "\n",
        "naive_seasonal = NaiveSeasonal(K=get_best_naive_seasonal(train, validation, 200))\n",
        "naive_seasonal.fit(train)\n",
        "validation.plot(label='Actual')\n",
        "naive_seasonal.predict(len(validation)).plot(label='Naive Seasonal')\n",
        "naive_drift = NaiveDrift()\n",
        "naive_drift.fit(train)\n",
        "naive_drift.predict(len(validation)).plot(label='Naive Drift')\n",
        "naive_ensemble = NaiveEnsembleModel([NaiveSeasonal(K=get_best_naive_seasonal(train, validation, 200)), NaiveDrift()])\n",
        "naive_ensemble.fit(train)\n",
        "naive_ensemble.predict(len(validation)).plot(label='Naive Ensemble')\n",
        "\n",
        "# Get base line\n",
        "base_mape, base_smape = calculate_metrics(naive_ensemble.predict(len(validation)), validation)"
      ],
      "metadata": {
        "colab": {
          "base_uri": "https://localhost:8080/",
          "height": 302
        },
        "id": "x0LJG2axl02H",
        "outputId": "78a923af-1e38-4a75-cf96-27f95d685d31"
      },
      "execution_count": 7,
      "outputs": [
        {
          "output_type": "display_data",
          "data": {
            "text/plain": [
              "<Figure size 432x288 with 1 Axes>"
            ],
            "image/png": "[encoded data removed]"
          },
          "metadata": {
            "needs_background": "light"
          }
        }
      ]
    },
    {
      "cell_type": "code",
      "source": [
        "from darts.models.forecasting.exponential_smoothing import ExponentialSmoothing\n",
        "from darts.utils.utils import ModelMode\n",
        "from darts.utils.utils import SeasonalityMode\n",
        "\n",
        "exp = ExponentialSmoothing(trend=ModelMode.ADDITIVE, damped=False, seasonal=SeasonalityMode.ADDITIVE, seasonal_periods=10, random_state=42)\n",
        "exp.fit(train)\n",
        "validation.plot(label='Actual')\n",
        "exp.predict(len(validation)).plot(label='ExponentialSmoothing')"
      ],
      "metadata": {
        "colab": {
          "base_uri": "https://localhost:8080/",
          "height": 304
        },
        "id": "1vtCABkJyGZg",
        "outputId": "fecaa542-7eb0-4734-97b9-12a80f783a74"
      },
      "execution_count": 8,
      "outputs": [
        {
          "output_type": "display_data",
          "data": {
            "text/plain": [
              "<Figure size 432x288 with 1 Axes>"
            ],
            "image/png": "[encoded data removed]"
          },
          "metadata": {
            "needs_background": "light"
          }
        }
      ]
    },
    {
      "cell_type": "code",
      "source": [
        "from darts.models.forecasting.fft import FFT\n",
        "from darts.utils.utils import ModelMode\n",
        "from darts.utils.utils import SeasonalityMode\n",
        "\n",
        "exp = FFT(nr_freqs_to_keep=30, required_matches=None, trend='exp', trend_poly_degree=1)\n",
        "exp.fit(train)\n",
        "validation.plot(label='Actual')\n",
        "exp.predict(len(validation)).plot(label='FFT')"
      ],
      "metadata": {
        "colab": {
          "base_uri": "https://localhost:8080/",
          "height": 302
        },
        "id": "_KehVNJO3QfB",
        "outputId": "052e8530-5c8e-460a-c8c2-f541862ce241"
      },
      "execution_count": 9,
      "outputs": [
        {
          "output_type": "display_data",
          "data": {
            "text/plain": [
              "<Figure size 432x288 with 1 Axes>"
            ],
            "image/png": "[encoded data removed]"
          },
          "metadata": {
            "needs_background": "light"
          }
        }
      ]
    },
    {
      "cell_type": "code",
      "source": [
        "from darts.models.forecasting.random_forest import RandomForest\n",
        "from darts.utils.utils import ModelMode\n",
        "from darts.utils.utils import SeasonalityMode\n",
        "\n",
        "# exp = RandomForest(lags=200, output_chunk_length=10, n_estimators=5)\n",
        "exp = RandomForest(lags=26, output_chunk_length=1, n_estimators=3)\n",
        "exp.fit(train)\n",
        "validation.plot(label='Actual')\n",
        "exp.predict(len(validation)).plot(label='RandomForest')"
      ],
      "metadata": {
        "colab": {
          "base_uri": "https://localhost:8080/",
          "height": 305
        },
        "id": "hNkoZaFkOV27",
        "outputId": "02e609a0-2a66-47b3-ddda-a40003b9f1bc"
      },
      "execution_count": 10,
      "outputs": [
        {
          "output_type": "display_data",
          "data": {
            "text/plain": [
              "<Figure size 432x288 with 1 Axes>"
            ],
            "image/png": "[encoded data removed]"
          },
          "metadata": {
            "needs_background": "light"
          }
        }
      ]
    },
    {
      "cell_type": "code",
      "source": [
        "from darts.models.forecasting.nbeats import NBEATSModel\n",
        "model = NBEATSModel(\n",
        "    input_chunk_length=60, output_chunk_length=30, n_epochs=200, random_state=0,\n",
        "    pl_trainer_kwargs={\n",
        "      \"accelerator\": \"gpu\",\n",
        "      \"devices\": [0]\n",
        "    }\n",
        ")\n",
        "model.fit(train)\n",
        "validation.plot(label='Actual')\n",
        "model.predict(len(validation)).plot(label='RandomForest')"
      ],
      "metadata": {
        "colab": {
          "base_uri": "https://localhost:8080/",
          "height": 768,
          "referenced_widgets": [
            "402ce4bacd4049fabcaa5c153f38354c",
            "78b3761e3ffc4ebc874d390ee482da47",
            "872cabc3a2d64bc7ba365ae1bd3580a5",
            "ec6a28a6d7284b69bb934db29079a32f",
            "8bf05b9ad3c742b193a1e6aeec0935d4",
            "e9f64742888c4619a70f12394d995ac3",
            "b7673327ae274eb1ab0c298ca24124bd",
            "2db7146212e6452b97f5747abe9bdb46",
            "446490042b5645c1bd1f36e42604c9a7",
            "d7999688fce04492813887225920413b",
            "d3c4fee2d0e84d1aa5cb27ca71747964",
            "6c4cedc3fa6e409c92ee84b24c5194c7",
            "b096ee9045d34926afbe67180773e812",
            "41f8859263de45bea598c8cd1a25d839",
            "11763b81b6ea4d49a46a67273a669b71",
            "1ce0e5930fd1482a96b5074918c0f733",
            "4e8e8b01ed0a4d0186e18622fe4c4a93",
            "e7652ee5191747ce9bd6ebac878efbf4",
            "4439af5a4daa428da0746f12fcebf8aa",
            "5e40397691a1467195e7bd4ce03ab61d",
            "7f076cf81b8e406ea0247286fb4d8449",
            "3cceb66b97924e0f9bb002ce67f52f03"
          ]
        },
        "id": "vqBHSG0OzQGB",
        "outputId": "24489a11-80d1-4509-a167-d361f1dd51a9"
      },
      "execution_count": null,
      "outputs": [
        {
          "output_type": "stream",
          "name": "stderr",
          "text": [
            "INFO:pytorch_lightning.utilities.rank_zero:GPU available: True (cuda), used: True\n",
            "INFO:pytorch_lightning.utilities.rank_zero:TPU available: False, using: 0 TPU cores\n",
            "INFO:pytorch_lightning.utilities.rank_zero:IPU available: False, using: 0 IPUs\n",
            "INFO:pytorch_lightning.utilities.rank_zero:HPU available: False, using: 0 HPUs\n",
            "INFO:pytorch_lightning.accelerators.cuda:LOCAL_RANK: 0 - CUDA_VISIBLE_DEVICES: [0]\n",
            "INFO:pytorch_lightning.callbacks.model_summary:\n",
            "  | Name          | Type             | Params\n",
            "---------------------------------------------------\n",
            "0 | criterion     | MSELoss          | 0     \n",
            "1 | train_metrics | MetricCollection | 0     \n",
            "2 | val_metrics   | MetricCollection | 0     \n",
            "3 | stacks        | ModuleList       | 6.5 M \n",
            "---------------------------------------------------\n",
            "6.5 M     Trainable params\n",
            "1.6 K     Non-trainable params\n",
            "6.5 M     Total params\n",
            "51.864    Total estimated model params size (MB)\n"
          ]
        },
        {
          "output_type": "display_data",
          "data": {
            "text/plain": [
              "Training: 0it [00:00, ?it/s]"
            ],
            "application/vnd.jupyter.widget-view+json": {
              "version_major": 2,
              "version_minor": 0,
              "model_id": "402ce4bacd4049fabcaa5c153f38354c"
            }
          },
          "metadata": {}
        },
        {
          "output_type": "stream",
          "name": "stderr",
          "text": [
            "INFO:pytorch_lightning.utilities.rank_zero:`Trainer.fit` stopped: `max_epochs=200` reached.\n",
            "INFO:pytorch_lightning.utilities.rank_zero:GPU available: True (cuda), used: True\n",
            "INFO:pytorch_lightning.utilities.rank_zero:TPU available: False, using: 0 TPU cores\n",
            "INFO:pytorch_lightning.utilities.rank_zero:IPU available: False, using: 0 IPUs\n",
            "INFO:pytorch_lightning.utilities.rank_zero:HPU available: False, using: 0 HPUs\n",
            "INFO:pytorch_lightning.accelerators.cuda:LOCAL_RANK: 0 - CUDA_VISIBLE_DEVICES: [0]\n"
          ]
        },
        {
          "output_type": "display_data",
          "data": {
            "text/plain": [
              "Predicting: 0it [00:00, ?it/s]"
            ],
            "application/vnd.jupyter.widget-view+json": {
              "version_major": 2,
              "version_minor": 0,
              "model_id": "6c4cedc3fa6e409c92ee84b24c5194c7"
            }
          },
          "metadata": {}
        },
        {
          "output_type": "display_data",
          "data": {
            "text/plain": [
              "<Figure size 432x288 with 1 Axes>"
            ],
            "image/png": "[encoded data removed]"
          },
          "metadata": {
            "needs_background": "light"
          }
        }
      ]
    },
    {
      "cell_type": "code",
      "source": [
        "import itertools\n",
        "lags = list(range(10, 30))\n",
        "# output_chunk_lengths = list(range(1, 20))\n",
        "n_estimators = list(range(1, 30))\n",
        "n_estimators = [element * 3 for element in n_estimators]\n",
        "products = list(itertools.product(lags, n_estimators))\n",
        "\n",
        "def get_best_random_forest(train, validation, products, base_line):\n",
        "  best = 0;\n",
        "  result = []\n",
        "  for product in products:\n",
        "    model = RandomForest(lags=product[0], output_chunk_length=1, n_estimators=product[1])\n",
        "    model.fit(train)\n",
        "    model_forecast = model.predict(len(validation))\n",
        "    mape_val, smape_val = calculate_metrics(model_forecast, validation)\n",
        "    if smape_val < base_line:\n",
        "      print(product)\n",
        "      result.append(product)\n",
        "  return result\n",
        "\n",
        "result = get_best_random_forest(train, validation, products, base_smape)"
      ],
      "metadata": {
        "colab": {
          "base_uri": "https://localhost:8080/"
        },
        "id": "xUvVveixP8YQ",
        "outputId": "34cd3747-7386-49e0-cb95-c868004a57b0"
      },
      "execution_count": null,
      "outputs": [
        {
          "output_type": "stream",
          "name": "stdout",
          "text": [
            "(16, 3)\n",
            "(26, 3)\n"
          ]
        }
      ]
    }
  ]
}